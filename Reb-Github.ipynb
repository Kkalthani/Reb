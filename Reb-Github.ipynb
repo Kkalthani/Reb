{
 "cells": [
  {
   "cell_type": "code",
   "execution_count": 2,
   "id": "fifteen-profile",
   "metadata": {},
   "outputs": [],
   "source": [
    "import pandas as pd\n",
    "import matplotlib.pyplot as plt\n",
    "import numpy as np\n",
    "from numpy.random import multivariate_normal as ml\n",
    "import plotly.graph_objects as go\n",
    "from ipywidgets import interact\n",
    "from ipywidgets import widgets"
   ]
  },
  {
   "cell_type": "code",
   "execution_count": 3,
   "id": "advanced-crowd",
   "metadata": {},
   "outputs": [],
   "source": [
    "def rebalance(mu1 = 0, mu2= 0,vol1 = 0.1, vol2= 0.1, corr =0, moneyA= 500, moneyB=500, size=100 ):\n",
    "    \n",
    "    \n",
    "    var1=vol1**2\n",
    "    var2=vol2**2\n",
    "    corr = np.array([1,corr,corr,1]).reshape(2,2)\n",
    "    #cov_matrix = np.array([var1,cov,cov,var2]).reshape(2,2)\n",
    "    sigma = np.diag([var1,var2])\n",
    "    cov_matrix = np.matmul(np.matmul((sigma),corr),(sigma))\n",
    "    #corr = np.matmul(np.linalg.inv(sigma),cov_matrix)\n",
    "    \n",
    "    reb = ml([mu1,mu2],cov_matrix, size=size)\n",
    "    \n",
    "    shares_a = 20*(1+reb[:,0])\n",
    "    shares_b = 20*(1+reb[:,1])\n",
    "    rets = pd.DataFrame({\"SharesA\":shares_a, \"SharesB\": shares_b})\n",
    "    \n",
    "    SPY_shares= moneyA/rets[\"SharesA\"].iloc[0]\n",
    "    TLT_shares= moneyB/rets[\"SharesB\"].iloc[0]\n",
    "\n",
    "    equityWeight = moneyA/(moneyA+moneyB)\n",
    "    bondsWeight = moneyB/(moneyA+moneyB)\n",
    "\n",
    "    newmktSP=[]\n",
    "    newmktTLT=[]\n",
    "\n",
    "    newSharesSP= SPY_shares\n",
    "    newSharesTLT= TLT_shares\n",
    "\n",
    "    for i, rows in rets.iterrows():\n",
    "        \n",
    "        mktvalSP= (newSharesSP)*(rets[\"SharesA\"][i])\n",
    "        mktvalTLT= (newSharesTLT)*(rets[\"SharesB\"][i])\n",
    "    \n",
    "        weightSP = mktvalSP/(mktvalSP+mktvalTLT)\n",
    "        weightTLT = mktvalTLT/(mktvalSP+mktvalTLT)\n",
    "    \n",
    "\n",
    "        buySellSPY = (weightSP - equityWeight)*(mktvalSP+mktvalTLT)\n",
    "        buySellTLT = (weightTLT - bondsWeight)*(mktvalSP+mktvalTLT)\n",
    "    \n",
    "        newmktValSP = mktvalSP-buySellSPY\n",
    "        newmktValTLT = mktvalTLT-buySellTLT\n",
    "    \n",
    "    \n",
    "        newSharesSP = newmktValSP/rets[\"SharesA\"][i]\n",
    "        newSharesTLT = newmktValTLT/rets[\"SharesB\"][i]\n",
    "    \n",
    "    \n",
    "        #addSP = newSharesSP - (sharesSP)\n",
    "        #SPADD = addSP + newSharesSP\n",
    "    \n",
    "    \n",
    "        addTLT =  newSharesTLT \n",
    "    \n",
    "    \n",
    "        #newmktSP.append(mktvalSP)\n",
    "        newmktSP.append(newmktValSP)\n",
    "        #newmktTLT.append(mktvalTLT) \n",
    "        newmktTLT.append(newmktValTLT)\n",
    "    \n",
    "    rebalancedTLT = pd.DataFrame(newmktTLT,columns=[\"TLT\"])\n",
    "    rebalancedSPY = pd.DataFrame(newmktSP,columns=[\"SPY\"])\n",
    "    reb = rebalancedSPY.join(rebalancedTLT)\n",
    "    reb[\"Total\"] = reb[\"SPY\"]+reb[\"TLT\"]\n",
    "    \n",
    "    non_reb = pd.DataFrame({\"A\":rets[\"SharesA\"]*moneyA, \"B\":rets[\"SharesB\"]*moneyB})\n",
    "    non_reb[\"Non_Total\"] = non_reb[\"A\"]+non_reb[\"B\"]\n",
    "    \n",
    "    portfolios = pd.concat([reb[\"Total\"],non_reb[\"Non_Total\"]],axis=1)\n",
    "    \n",
    "    data = (1+portfolios.pct_change().dropna()).cumprod()\n",
    "    fig = go.Figure()\n",
    "    fig.add_trace(go.Scatter(y=data[\"Total\"],\n",
    "                    mode='lines',\n",
    "                    name='Rebalanced', line_color=\"maroon\"))\n",
    "    fig.add_trace(go.Scatter(y=data[\"Non_Total\"],\n",
    "                    mode='lines',\n",
    "                    name='Not Rebalanced', line_color=\"grey\"))\n",
    "    fig.update_layout(\n",
    "    autosize=False,\n",
    "    width=1500,\n",
    "    height=500,)\n",
    "    \n",
    "\n",
    "    return fig.show()\n",
    "\n",
    "\n"
   ]
  },
  {
   "cell_type": "code",
   "execution_count": 4,
   "id": "surface-press",
   "metadata": {},
   "outputs": [
    {
     "data": {
      "application/vnd.jupyter.widget-view+json": {
       "model_id": "3ad5683f082d46e8ac2f40c476ec794c",
       "version_major": 2,
       "version_minor": 0
      },
      "text/plain": [
       "interactive(children=(FloatSlider(value=0.0, description='mu1', max=0.8, step=0.05), FloatSlider(value=0.0, de…"
      ]
     },
     "metadata": {},
     "output_type": "display_data"
    }
   ],
   "source": [
    "interact(rebalance, mu1=(0, 0.8, 0.05),mu2=(0, 0.8, 0.05),vol1 = (0, 0.8, 0.05),vol2 = (0, 0.8, 0.05), corr=(-1,1,0.1), moneyA=(500,10000, 100),moneyB=(500,10000, 100),\n",
    "        size=(1,10000, 100));"
   ]
  },
  {
   "cell_type": "code",
   "execution_count": null,
   "id": "comprehensive-mouth",
   "metadata": {},
   "outputs": [],
   "source": []
  }
 ],
 "metadata": {
  "kernelspec": {
   "display_name": "Python 3",
   "language": "python",
   "name": "python3"
  },
  "language_info": {
   "codemirror_mode": {
    "name": "ipython",
    "version": 3
   },
   "file_extension": ".py",
   "mimetype": "text/x-python",
   "name": "python",
   "nbconvert_exporter": "python",
   "pygments_lexer": "ipython3",
   "version": "3.7.9"
  },
  "widgets": {
   "application/vnd.jupyter.widget-state+json": {
    "state": {
     "093f0a8f06e64e7784238fcaa3a0c21e": {
      "model_module": "@jupyter-widgets/controls",
      "model_module_version": "1.5.0",
      "model_name": "FloatSliderModel",
      "state": {
       "description": "mu2",
       "layout": "IPY_MODEL_2927b54bd78c4239b0b12857f6367c21",
       "max": 0.8,
       "step": 0.05,
       "style": "IPY_MODEL_769597ff2f124fb5983179f2270083d9",
       "value": 0.25
      }
     },
     "137a2c92e87a4e0e92221782e3da7a6b": {
      "model_module": "@jupyter-widgets/base",
      "model_module_version": "1.2.0",
      "model_name": "LayoutModel",
      "state": {}
     },
     "185e4d95639a4413adaf6f7f3f4b65b3": {
      "model_module": "@jupyter-widgets/controls",
      "model_module_version": "1.5.0",
      "model_name": "SliderStyleModel",
      "state": {
       "description_width": ""
      }
     },
     "1ba6ffe7fbaa42dd94b818997b42248b": {
      "model_module": "@jupyter-widgets/controls",
      "model_module_version": "1.5.0",
      "model_name": "FloatSliderModel",
      "state": {
       "description": "vol2",
       "layout": "IPY_MODEL_d07030b59916449fa103b09145b44237",
       "max": 0.8,
       "step": 0.05,
       "style": "IPY_MODEL_c084478b52f94a8dbb443c270773faa6",
       "value": 0.1
      }
     },
     "1c3064147a7543689c08b8e331b3a7df": {
      "model_module": "@jupyter-widgets/controls",
      "model_module_version": "1.5.0",
      "model_name": "FloatSliderModel",
      "state": {
       "description": "vol1",
       "layout": "IPY_MODEL_b8a7e36b17aa4396a275585f59590f9c",
       "max": 0.8,
       "step": 0.05,
       "style": "IPY_MODEL_185e4d95639a4413adaf6f7f3f4b65b3",
       "value": 0.4
      }
     },
     "24e7b9a6a5b34a6f958135da3423ccae": {
      "model_module": "@jupyter-widgets/output",
      "model_module_version": "1.0.0",
      "model_name": "OutputModel",
      "state": {
       "layout": "IPY_MODEL_3d8be16d3da24757a3850f7435b4d95c",
       "outputs": [
        {
         "data": {
          "application/vnd.plotly.v1+json": {
           "config": {
            "plotlyServerURL": "https://plot.ly"
           },
           "data": [
            {
             "line": {
              "color": "maroon"
             },
             "mode": "lines",
             "name": "Rebalanced",
             "type": "scatter",
             "y": [
              1.028477721258757,
              1.0222063477774215,
              0.9664496691576445,
              1.0433774874862347,
              0.9945377805626346,
              1.0384621078475391,
              0.9542901377914621,
              0.9464208560782993,
              0.9255537329816091,
              1.0572971072794317,
              1.1269644570000805,
              1.102926897230871,
              1.145534305994579,
              0.9703796728808044,
              1.1541442601765899,
              0.9639052804651608,
              0.9591019578129267,
              1.2024592188241565,
              1.121814359143026,
              1.0786570836138722,
              1.0871016104752829,
              1.123477018959093,
              1.0181899312659335,
              1.2080205408302371,
              1.2563358135250002,
              1.0720468309880506,
              1.34206979275115,
              1.0315163266390357,
              1.3291801815088995,
              1.1799869199992452,
              1.4214402384904994,
              1.2584549603240944,
              1.2214195774557484,
              1.1201273290338398,
              1.2715203071150387,
              1.3974519264909508,
              1.2456271965698233,
              1.5760527875296155,
              1.4182212899370978,
              1.367584755756203,
              1.4591078832256914,
              1.2932645451592064,
              1.507308995534818,
              1.3648207339807392,
              1.1527677589142886,
              1.5254746637107905,
              1.4633523524488856,
              1.5468408543592218,
              1.3348375450119687,
              1.5057661923364938,
              1.4763877841997355,
              1.4580293074198631,
              1.4834325308317748,
              1.5765674143114667,
              1.526181762436615,
              1.684100597627725,
              1.5332660318899738,
              1.4330227437997485,
              1.7245764526110432,
              1.3604695599929348,
              1.5650882972394464,
              1.5251374230892891,
              1.6831761971766481,
              1.7219894842717358,
              1.4484930061976,
              1.7013695630094754,
              1.8399503915799844,
              1.820387301655994,
              1.7684985723478925,
              1.8469417395148977,
              1.5044504713843099,
              1.7950408817720964,
              1.7733219635769186,
              1.770084464555452,
              1.7460896934269647,
              1.8586109605075036,
              1.8629785799133733,
              1.7380597101666087,
              1.6253396058785143,
              1.8613601938633086,
              1.7980181246890565,
              1.6656230543735773,
              1.9730176570773499,
              1.5678501156495783,
              1.8828177872689102,
              1.9778084441468573,
              1.8970512281300476,
              1.7984979794335518,
              1.8875215011297999,
              1.8293038786596842,
              2.199289144183904,
              2.109096038158143,
              1.9620848852007753,
              2.0397877224352885,
              1.8433052128023897,
              2.008501068586198,
              2.269929985588976,
              1.9154664956554739,
              2.199697067536034
             ]
            },
            {
             "line": {
              "color": "grey"
             },
             "mode": "lines",
             "name": "Not Rebalanced",
             "type": "scatter",
             "y": [
              1.0271170823614768,
              1.0214260844008094,
              0.9716039844784146,
              1.035140763536352,
              0.9908211434143308,
              1.029110813549764,
              0.9539565060446463,
              0.9497424218136648,
              0.9296905315130755,
              1.0366797759460287,
              1.098007859047931,
              1.0752475788619917,
              1.115602012092857,
              0.9500134758931078,
              1.092036065569056,
              0.916624782049472,
              0.915427358701205,
              1.0915935443527738,
              1.0202906039874866,
              0.9860544753186986,
              0.9919379564201152,
              1.0201125441849552,
              0.9344025547900455,
              1.0755700997585937,
              1.1152760039364353,
              0.9537623128706805,
              1.1487542426356336,
              0.8781273887934101,
              1.0539274066206914,
              0.9438785525945455,
              1.1002543649073697,
              0.9780843628083666,
              0.9556621209125019,
              0.8887794338645616,
              0.9755801127308563,
              1.0607636682062116,
              0.9523669098959202,
              1.1625162814940682,
              1.0421827220988413,
              1.006679392121581,
              1.0689365575354635,
              0.9546995741490135,
              1.0833100453551479,
              0.9849902700399649,
              0.8537401046956606,
              1.0407688912267798,
              1.0024180000104868,
              1.0506222859905991,
              0.916680118797957,
              1.0053721179192456,
              0.9869442008990533,
              0.977041624330772,
              0.9920827744458652,
              1.046542707263995,
              1.0161047794859583,
              1.108217354675979,
              1.0101648147332434,
              0.9509360540179274,
              1.1102883583532324,
              0.8767153412518806,
              0.9703834032170677,
              0.9473648215592164,
              1.0293657590837804,
              1.0509050762432155,
              0.8953151977514299,
              1.0180214490978525,
              1.0919013533319764,
              1.0803148066812773,
              1.050657531380123,
              1.0933216560906363,
              0.893133745400281,
              1.0242611044621182,
              1.013202992377959,
              1.0105569176125913,
              0.9975243521636928,
              1.0552049204037952,
              1.0576625119470044,
              0.9908177795061414,
              0.9362117498996976,
              1.0410007255444336,
              1.0089878408286543,
              0.9433531582052426,
              1.0806579237881373,
              0.864988171590973,
              0.988518101847309,
              1.0310886630631035,
              0.9933696165528708,
              0.947380745045658,
              0.9874265720863595,
              0.9611582819211765,
              1.120838655040502,
              1.074984591925355,
              1.0031590007059605,
              1.0372730210039622,
              0.9458752897446967,
              1.0122763382815245,
              1.1306030039827872,
              0.9520618650696702,
              1.0642640567301387
             ]
            }
           ],
           "layout": {
            "autosize": false,
            "height": 500,
            "template": {
             "data": {
              "bar": [
               {
                "error_x": {
                 "color": "#2a3f5f"
                },
                "error_y": {
                 "color": "#2a3f5f"
                },
                "marker": {
                 "line": {
                  "color": "#E5ECF6",
                  "width": 0.5
                 }
                },
                "type": "bar"
               }
              ],
              "barpolar": [
               {
                "marker": {
                 "line": {
                  "color": "#E5ECF6",
                  "width": 0.5
                 }
                },
                "type": "barpolar"
               }
              ],
              "carpet": [
               {
                "aaxis": {
                 "endlinecolor": "#2a3f5f",
                 "gridcolor": "white",
                 "linecolor": "white",
                 "minorgridcolor": "white",
                 "startlinecolor": "#2a3f5f"
                },
                "baxis": {
                 "endlinecolor": "#2a3f5f",
                 "gridcolor": "white",
                 "linecolor": "white",
                 "minorgridcolor": "white",
                 "startlinecolor": "#2a3f5f"
                },
                "type": "carpet"
               }
              ],
              "choropleth": [
               {
                "colorbar": {
                 "outlinewidth": 0,
                 "ticks": ""
                },
                "type": "choropleth"
               }
              ],
              "contour": [
               {
                "colorbar": {
                 "outlinewidth": 0,
                 "ticks": ""
                },
                "colorscale": [
                 [
                  0,
                  "#0d0887"
                 ],
                 [
                  0.1111111111111111,
                  "#46039f"
                 ],
                 [
                  0.2222222222222222,
                  "#7201a8"
                 ],
                 [
                  0.3333333333333333,
                  "#9c179e"
                 ],
                 [
                  0.4444444444444444,
                  "#bd3786"
                 ],
                 [
                  0.5555555555555556,
                  "#d8576b"
                 ],
                 [
                  0.6666666666666666,
                  "#ed7953"
                 ],
                 [
                  0.7777777777777778,
                  "#fb9f3a"
                 ],
                 [
                  0.8888888888888888,
                  "#fdca26"
                 ],
                 [
                  1,
                  "#f0f921"
                 ]
                ],
                "type": "contour"
               }
              ],
              "contourcarpet": [
               {
                "colorbar": {
                 "outlinewidth": 0,
                 "ticks": ""
                },
                "type": "contourcarpet"
               }
              ],
              "heatmap": [
               {
                "colorbar": {
                 "outlinewidth": 0,
                 "ticks": ""
                },
                "colorscale": [
                 [
                  0,
                  "#0d0887"
                 ],
                 [
                  0.1111111111111111,
                  "#46039f"
                 ],
                 [
                  0.2222222222222222,
                  "#7201a8"
                 ],
                 [
                  0.3333333333333333,
                  "#9c179e"
                 ],
                 [
                  0.4444444444444444,
                  "#bd3786"
                 ],
                 [
                  0.5555555555555556,
                  "#d8576b"
                 ],
                 [
                  0.6666666666666666,
                  "#ed7953"
                 ],
                 [
                  0.7777777777777778,
                  "#fb9f3a"
                 ],
                 [
                  0.8888888888888888,
                  "#fdca26"
                 ],
                 [
                  1,
                  "#f0f921"
                 ]
                ],
                "type": "heatmap"
               }
              ],
              "heatmapgl": [
               {
                "colorbar": {
                 "outlinewidth": 0,
                 "ticks": ""
                },
                "colorscale": [
                 [
                  0,
                  "#0d0887"
                 ],
                 [
                  0.1111111111111111,
                  "#46039f"
                 ],
                 [
                  0.2222222222222222,
                  "#7201a8"
                 ],
                 [
                  0.3333333333333333,
                  "#9c179e"
                 ],
                 [
                  0.4444444444444444,
                  "#bd3786"
                 ],
                 [
                  0.5555555555555556,
                  "#d8576b"
                 ],
                 [
                  0.6666666666666666,
                  "#ed7953"
                 ],
                 [
                  0.7777777777777778,
                  "#fb9f3a"
                 ],
                 [
                  0.8888888888888888,
                  "#fdca26"
                 ],
                 [
                  1,
                  "#f0f921"
                 ]
                ],
                "type": "heatmapgl"
               }
              ],
              "histogram": [
               {
                "marker": {
                 "colorbar": {
                  "outlinewidth": 0,
                  "ticks": ""
                 }
                },
                "type": "histogram"
               }
              ],
              "histogram2d": [
               {
                "colorbar": {
                 "outlinewidth": 0,
                 "ticks": ""
                },
                "colorscale": [
                 [
                  0,
                  "#0d0887"
                 ],
                 [
                  0.1111111111111111,
                  "#46039f"
                 ],
                 [
                  0.2222222222222222,
                  "#7201a8"
                 ],
                 [
                  0.3333333333333333,
                  "#9c179e"
                 ],
                 [
                  0.4444444444444444,
                  "#bd3786"
                 ],
                 [
                  0.5555555555555556,
                  "#d8576b"
                 ],
                 [
                  0.6666666666666666,
                  "#ed7953"
                 ],
                 [
                  0.7777777777777778,
                  "#fb9f3a"
                 ],
                 [
                  0.8888888888888888,
                  "#fdca26"
                 ],
                 [
                  1,
                  "#f0f921"
                 ]
                ],
                "type": "histogram2d"
               }
              ],
              "histogram2dcontour": [
               {
                "colorbar": {
                 "outlinewidth": 0,
                 "ticks": ""
                },
                "colorscale": [
                 [
                  0,
                  "#0d0887"
                 ],
                 [
                  0.1111111111111111,
                  "#46039f"
                 ],
                 [
                  0.2222222222222222,
                  "#7201a8"
                 ],
                 [
                  0.3333333333333333,
                  "#9c179e"
                 ],
                 [
                  0.4444444444444444,
                  "#bd3786"
                 ],
                 [
                  0.5555555555555556,
                  "#d8576b"
                 ],
                 [
                  0.6666666666666666,
                  "#ed7953"
                 ],
                 [
                  0.7777777777777778,
                  "#fb9f3a"
                 ],
                 [
                  0.8888888888888888,
                  "#fdca26"
                 ],
                 [
                  1,
                  "#f0f921"
                 ]
                ],
                "type": "histogram2dcontour"
               }
              ],
              "mesh3d": [
               {
                "colorbar": {
                 "outlinewidth": 0,
                 "ticks": ""
                },
                "type": "mesh3d"
               }
              ],
              "parcoords": [
               {
                "line": {
                 "colorbar": {
                  "outlinewidth": 0,
                  "ticks": ""
                 }
                },
                "type": "parcoords"
               }
              ],
              "pie": [
               {
                "automargin": true,
                "type": "pie"
               }
              ],
              "scatter": [
               {
                "marker": {
                 "colorbar": {
                  "outlinewidth": 0,
                  "ticks": ""
                 }
                },
                "type": "scatter"
               }
              ],
              "scatter3d": [
               {
                "line": {
                 "colorbar": {
                  "outlinewidth": 0,
                  "ticks": ""
                 }
                },
                "marker": {
                 "colorbar": {
                  "outlinewidth": 0,
                  "ticks": ""
                 }
                },
                "type": "scatter3d"
               }
              ],
              "scattercarpet": [
               {
                "marker": {
                 "colorbar": {
                  "outlinewidth": 0,
                  "ticks": ""
                 }
                },
                "type": "scattercarpet"
               }
              ],
              "scattergeo": [
               {
                "marker": {
                 "colorbar": {
                  "outlinewidth": 0,
                  "ticks": ""
                 }
                },
                "type": "scattergeo"
               }
              ],
              "scattergl": [
               {
                "marker": {
                 "colorbar": {
                  "outlinewidth": 0,
                  "ticks": ""
                 }
                },
                "type": "scattergl"
               }
              ],
              "scattermapbox": [
               {
                "marker": {
                 "colorbar": {
                  "outlinewidth": 0,
                  "ticks": ""
                 }
                },
                "type": "scattermapbox"
               }
              ],
              "scatterpolar": [
               {
                "marker": {
                 "colorbar": {
                  "outlinewidth": 0,
                  "ticks": ""
                 }
                },
                "type": "scatterpolar"
               }
              ],
              "scatterpolargl": [
               {
                "marker": {
                 "colorbar": {
                  "outlinewidth": 0,
                  "ticks": ""
                 }
                },
                "type": "scatterpolargl"
               }
              ],
              "scatterternary": [
               {
                "marker": {
                 "colorbar": {
                  "outlinewidth": 0,
                  "ticks": ""
                 }
                },
                "type": "scatterternary"
               }
              ],
              "surface": [
               {
                "colorbar": {
                 "outlinewidth": 0,
                 "ticks": ""
                },
                "colorscale": [
                 [
                  0,
                  "#0d0887"
                 ],
                 [
                  0.1111111111111111,
                  "#46039f"
                 ],
                 [
                  0.2222222222222222,
                  "#7201a8"
                 ],
                 [
                  0.3333333333333333,
                  "#9c179e"
                 ],
                 [
                  0.4444444444444444,
                  "#bd3786"
                 ],
                 [
                  0.5555555555555556,
                  "#d8576b"
                 ],
                 [
                  0.6666666666666666,
                  "#ed7953"
                 ],
                 [
                  0.7777777777777778,
                  "#fb9f3a"
                 ],
                 [
                  0.8888888888888888,
                  "#fdca26"
                 ],
                 [
                  1,
                  "#f0f921"
                 ]
                ],
                "type": "surface"
               }
              ],
              "table": [
               {
                "cells": {
                 "fill": {
                  "color": "#EBF0F8"
                 },
                 "line": {
                  "color": "white"
                 }
                },
                "header": {
                 "fill": {
                  "color": "#C8D4E3"
                 },
                 "line": {
                  "color": "white"
                 }
                },
                "type": "table"
               }
              ]
             },
             "layout": {
              "annotationdefaults": {
               "arrowcolor": "#2a3f5f",
               "arrowhead": 0,
               "arrowwidth": 1
              },
              "coloraxis": {
               "colorbar": {
                "outlinewidth": 0,
                "ticks": ""
               }
              },
              "colorscale": {
               "diverging": [
                [
                 0,
                 "#8e0152"
                ],
                [
                 0.1,
                 "#c51b7d"
                ],
                [
                 0.2,
                 "#de77ae"
                ],
                [
                 0.3,
                 "#f1b6da"
                ],
                [
                 0.4,
                 "#fde0ef"
                ],
                [
                 0.5,
                 "#f7f7f7"
                ],
                [
                 0.6,
                 "#e6f5d0"
                ],
                [
                 0.7,
                 "#b8e186"
                ],
                [
                 0.8,
                 "#7fbc41"
                ],
                [
                 0.9,
                 "#4d9221"
                ],
                [
                 1,
                 "#276419"
                ]
               ],
               "sequential": [
                [
                 0,
                 "#0d0887"
                ],
                [
                 0.1111111111111111,
                 "#46039f"
                ],
                [
                 0.2222222222222222,
                 "#7201a8"
                ],
                [
                 0.3333333333333333,
                 "#9c179e"
                ],
                [
                 0.4444444444444444,
                 "#bd3786"
                ],
                [
                 0.5555555555555556,
                 "#d8576b"
                ],
                [
                 0.6666666666666666,
                 "#ed7953"
                ],
                [
                 0.7777777777777778,
                 "#fb9f3a"
                ],
                [
                 0.8888888888888888,
                 "#fdca26"
                ],
                [
                 1,
                 "#f0f921"
                ]
               ],
               "sequentialminus": [
                [
                 0,
                 "#0d0887"
                ],
                [
                 0.1111111111111111,
                 "#46039f"
                ],
                [
                 0.2222222222222222,
                 "#7201a8"
                ],
                [
                 0.3333333333333333,
                 "#9c179e"
                ],
                [
                 0.4444444444444444,
                 "#bd3786"
                ],
                [
                 0.5555555555555556,
                 "#d8576b"
                ],
                [
                 0.6666666666666666,
                 "#ed7953"
                ],
                [
                 0.7777777777777778,
                 "#fb9f3a"
                ],
                [
                 0.8888888888888888,
                 "#fdca26"
                ],
                [
                 1,
                 "#f0f921"
                ]
               ]
              },
              "colorway": [
               "#636efa",
               "#EF553B",
               "#00cc96",
               "#ab63fa",
               "#FFA15A",
               "#19d3f3",
               "#FF6692",
               "#B6E880",
               "#FF97FF",
               "#FECB52"
              ],
              "font": {
               "color": "#2a3f5f"
              },
              "geo": {
               "bgcolor": "white",
               "lakecolor": "white",
               "landcolor": "#E5ECF6",
               "showlakes": true,
               "showland": true,
               "subunitcolor": "white"
              },
              "hoverlabel": {
               "align": "left"
              },
              "hovermode": "closest",
              "mapbox": {
               "style": "light"
              },
              "paper_bgcolor": "white",
              "plot_bgcolor": "#E5ECF6",
              "polar": {
               "angularaxis": {
                "gridcolor": "white",
                "linecolor": "white",
                "ticks": ""
               },
               "bgcolor": "#E5ECF6",
               "radialaxis": {
                "gridcolor": "white",
                "linecolor": "white",
                "ticks": ""
               }
              },
              "scene": {
               "xaxis": {
                "backgroundcolor": "#E5ECF6",
                "gridcolor": "white",
                "gridwidth": 2,
                "linecolor": "white",
                "showbackground": true,
                "ticks": "",
                "zerolinecolor": "white"
               },
               "yaxis": {
                "backgroundcolor": "#E5ECF6",
                "gridcolor": "white",
                "gridwidth": 2,
                "linecolor": "white",
                "showbackground": true,
                "ticks": "",
                "zerolinecolor": "white"
               },
               "zaxis": {
                "backgroundcolor": "#E5ECF6",
                "gridcolor": "white",
                "gridwidth": 2,
                "linecolor": "white",
                "showbackground": true,
                "ticks": "",
                "zerolinecolor": "white"
               }
              },
              "shapedefaults": {
               "line": {
                "color": "#2a3f5f"
               }
              },
              "ternary": {
               "aaxis": {
                "gridcolor": "white",
                "linecolor": "white",
                "ticks": ""
               },
               "baxis": {
                "gridcolor": "white",
                "linecolor": "white",
                "ticks": ""
               },
               "bgcolor": "#E5ECF6",
               "caxis": {
                "gridcolor": "white",
                "linecolor": "white",
                "ticks": ""
               }
              },
              "title": {
               "x": 0.05
              },
              "xaxis": {
               "automargin": true,
               "gridcolor": "white",
               "linecolor": "white",
               "ticks": "",
               "title": {
                "standoff": 15
               },
               "zerolinecolor": "white",
               "zerolinewidth": 2
              },
              "yaxis": {
               "automargin": true,
               "gridcolor": "white",
               "linecolor": "white",
               "ticks": "",
               "title": {
                "standoff": 15
               },
               "zerolinecolor": "white",
               "zerolinewidth": 2
              }
             }
            },
            "width": 1500
           }
          },
          "text/html": "<div>                            <div id=\"3ba9ee22-862e-4518-9d43-d5c8a3002d26\" class=\"plotly-graph-div\" style=\"height:500px; width:1500px;\"></div>            <script type=\"text/javascript\">                require([\"plotly\"], function(Plotly) {                    window.PLOTLYENV=window.PLOTLYENV || {};                                    if (document.getElementById(\"3ba9ee22-862e-4518-9d43-d5c8a3002d26\")) {                    Plotly.newPlot(                        \"3ba9ee22-862e-4518-9d43-d5c8a3002d26\",                        [{\"line\": {\"color\": \"maroon\"}, \"mode\": \"lines\", \"name\": \"Rebalanced\", \"type\": \"scatter\", \"y\": [1.028477721258757, 1.0222063477774215, 0.9664496691576445, 1.0433774874862347, 0.9945377805626346, 1.0384621078475391, 0.9542901377914621, 0.9464208560782993, 0.9255537329816091, 1.0572971072794317, 1.1269644570000805, 1.102926897230871, 1.145534305994579, 0.9703796728808044, 1.1541442601765899, 0.9639052804651608, 0.9591019578129267, 1.2024592188241565, 1.121814359143026, 1.0786570836138722, 1.0871016104752829, 1.123477018959093, 1.0181899312659335, 1.2080205408302371, 1.2563358135250002, 1.0720468309880506, 1.34206979275115, 1.0315163266390357, 1.3291801815088995, 1.1799869199992452, 1.4214402384904994, 1.2584549603240944, 1.2214195774557484, 1.1201273290338398, 1.2715203071150387, 1.3974519264909508, 1.2456271965698233, 1.5760527875296155, 1.4182212899370978, 1.367584755756203, 1.4591078832256914, 1.2932645451592064, 1.507308995534818, 1.3648207339807392, 1.1527677589142886, 1.5254746637107905, 1.4633523524488856, 1.5468408543592218, 1.3348375450119687, 1.5057661923364938, 1.4763877841997355, 1.4580293074198631, 1.4834325308317748, 1.5765674143114667, 1.526181762436615, 1.684100597627725, 1.5332660318899738, 1.4330227437997485, 1.7245764526110432, 1.3604695599929348, 1.5650882972394464, 1.5251374230892891, 1.6831761971766481, 1.7219894842717358, 1.4484930061976, 1.7013695630094754, 1.8399503915799844, 1.820387301655994, 1.7684985723478925, 1.8469417395148977, 1.5044504713843099, 1.7950408817720964, 1.7733219635769186, 1.770084464555452, 1.7460896934269647, 1.8586109605075036, 1.8629785799133733, 1.7380597101666087, 1.6253396058785143, 1.8613601938633086, 1.7980181246890565, 1.6656230543735773, 1.9730176570773499, 1.5678501156495783, 1.8828177872689102, 1.9778084441468573, 1.8970512281300476, 1.7984979794335518, 1.8875215011297999, 1.8293038786596842, 2.199289144183904, 2.109096038158143, 1.9620848852007753, 2.0397877224352885, 1.8433052128023897, 2.008501068586198, 2.269929985588976, 1.9154664956554739, 2.199697067536034]}, {\"line\": {\"color\": \"grey\"}, \"mode\": \"lines\", \"name\": \"Not Rebalanced\", \"type\": \"scatter\", \"y\": [1.0271170823614768, 1.0214260844008094, 0.9716039844784146, 1.035140763536352, 0.9908211434143308, 1.029110813549764, 0.9539565060446463, 0.9497424218136648, 0.9296905315130755, 1.0366797759460287, 1.098007859047931, 1.0752475788619917, 1.115602012092857, 0.9500134758931078, 1.092036065569056, 0.916624782049472, 0.915427358701205, 1.0915935443527738, 1.0202906039874866, 0.9860544753186986, 0.9919379564201152, 1.0201125441849552, 0.9344025547900455, 1.0755700997585937, 1.1152760039364353, 0.9537623128706805, 1.1487542426356336, 0.8781273887934101, 1.0539274066206914, 0.9438785525945455, 1.1002543649073697, 0.9780843628083666, 0.9556621209125019, 0.8887794338645616, 0.9755801127308563, 1.0607636682062116, 0.9523669098959202, 1.1625162814940682, 1.0421827220988413, 1.006679392121581, 1.0689365575354635, 0.9546995741490135, 1.0833100453551479, 0.9849902700399649, 0.8537401046956606, 1.0407688912267798, 1.0024180000104868, 1.0506222859905991, 0.916680118797957, 1.0053721179192456, 0.9869442008990533, 0.977041624330772, 0.9920827744458652, 1.046542707263995, 1.0161047794859583, 1.108217354675979, 1.0101648147332434, 0.9509360540179274, 1.1102883583532324, 0.8767153412518806, 0.9703834032170677, 0.9473648215592164, 1.0293657590837804, 1.0509050762432155, 0.8953151977514299, 1.0180214490978525, 1.0919013533319764, 1.0803148066812773, 1.050657531380123, 1.0933216560906363, 0.893133745400281, 1.0242611044621182, 1.013202992377959, 1.0105569176125913, 0.9975243521636928, 1.0552049204037952, 1.0576625119470044, 0.9908177795061414, 0.9362117498996976, 1.0410007255444336, 1.0089878408286543, 0.9433531582052426, 1.0806579237881373, 0.864988171590973, 0.988518101847309, 1.0310886630631035, 0.9933696165528708, 0.947380745045658, 0.9874265720863595, 0.9611582819211765, 1.120838655040502, 1.074984591925355, 1.0031590007059605, 1.0372730210039622, 0.9458752897446967, 1.0122763382815245, 1.1306030039827872, 0.9520618650696702, 1.0642640567301387]}],                        {\"autosize\": false, \"height\": 500, \"template\": {\"data\": {\"bar\": [{\"error_x\": {\"color\": \"#2a3f5f\"}, \"error_y\": {\"color\": \"#2a3f5f\"}, \"marker\": {\"line\": {\"color\": \"#E5ECF6\", \"width\": 0.5}}, \"type\": \"bar\"}], \"barpolar\": [{\"marker\": {\"line\": {\"color\": \"#E5ECF6\", \"width\": 0.5}}, \"type\": \"barpolar\"}], \"carpet\": [{\"aaxis\": {\"endlinecolor\": \"#2a3f5f\", \"gridcolor\": \"white\", \"linecolor\": \"white\", \"minorgridcolor\": \"white\", \"startlinecolor\": \"#2a3f5f\"}, \"baxis\": {\"endlinecolor\": \"#2a3f5f\", \"gridcolor\": \"white\", \"linecolor\": \"white\", \"minorgridcolor\": \"white\", \"startlinecolor\": \"#2a3f5f\"}, \"type\": \"carpet\"}], \"choropleth\": [{\"colorbar\": {\"outlinewidth\": 0, \"ticks\": \"\"}, \"type\": \"choropleth\"}], \"contour\": [{\"colorbar\": {\"outlinewidth\": 0, \"ticks\": \"\"}, \"colorscale\": [[0.0, \"#0d0887\"], [0.1111111111111111, \"#46039f\"], [0.2222222222222222, \"#7201a8\"], [0.3333333333333333, \"#9c179e\"], [0.4444444444444444, \"#bd3786\"], [0.5555555555555556, \"#d8576b\"], [0.6666666666666666, \"#ed7953\"], [0.7777777777777778, \"#fb9f3a\"], [0.8888888888888888, \"#fdca26\"], [1.0, \"#f0f921\"]], \"type\": \"contour\"}], \"contourcarpet\": [{\"colorbar\": {\"outlinewidth\": 0, \"ticks\": \"\"}, \"type\": \"contourcarpet\"}], \"heatmap\": [{\"colorbar\": {\"outlinewidth\": 0, \"ticks\": \"\"}, \"colorscale\": [[0.0, \"#0d0887\"], [0.1111111111111111, \"#46039f\"], [0.2222222222222222, \"#7201a8\"], [0.3333333333333333, \"#9c179e\"], [0.4444444444444444, \"#bd3786\"], [0.5555555555555556, \"#d8576b\"], [0.6666666666666666, \"#ed7953\"], [0.7777777777777778, \"#fb9f3a\"], [0.8888888888888888, \"#fdca26\"], [1.0, \"#f0f921\"]], \"type\": \"heatmap\"}], \"heatmapgl\": [{\"colorbar\": {\"outlinewidth\": 0, \"ticks\": \"\"}, \"colorscale\": [[0.0, \"#0d0887\"], [0.1111111111111111, \"#46039f\"], [0.2222222222222222, \"#7201a8\"], [0.3333333333333333, \"#9c179e\"], [0.4444444444444444, \"#bd3786\"], [0.5555555555555556, \"#d8576b\"], [0.6666666666666666, \"#ed7953\"], [0.7777777777777778, \"#fb9f3a\"], [0.8888888888888888, \"#fdca26\"], [1.0, \"#f0f921\"]], \"type\": \"heatmapgl\"}], \"histogram\": [{\"marker\": {\"colorbar\": {\"outlinewidth\": 0, \"ticks\": \"\"}}, \"type\": \"histogram\"}], \"histogram2d\": [{\"colorbar\": {\"outlinewidth\": 0, \"ticks\": \"\"}, \"colorscale\": [[0.0, \"#0d0887\"], [0.1111111111111111, \"#46039f\"], [0.2222222222222222, \"#7201a8\"], [0.3333333333333333, \"#9c179e\"], [0.4444444444444444, \"#bd3786\"], [0.5555555555555556, \"#d8576b\"], [0.6666666666666666, \"#ed7953\"], [0.7777777777777778, \"#fb9f3a\"], [0.8888888888888888, \"#fdca26\"], [1.0, \"#f0f921\"]], \"type\": \"histogram2d\"}], \"histogram2dcontour\": [{\"colorbar\": {\"outlinewidth\": 0, \"ticks\": \"\"}, \"colorscale\": [[0.0, \"#0d0887\"], [0.1111111111111111, \"#46039f\"], [0.2222222222222222, \"#7201a8\"], [0.3333333333333333, \"#9c179e\"], [0.4444444444444444, \"#bd3786\"], [0.5555555555555556, \"#d8576b\"], [0.6666666666666666, \"#ed7953\"], [0.7777777777777778, \"#fb9f3a\"], [0.8888888888888888, \"#fdca26\"], [1.0, \"#f0f921\"]], \"type\": \"histogram2dcontour\"}], \"mesh3d\": [{\"colorbar\": {\"outlinewidth\": 0, \"ticks\": \"\"}, \"type\": \"mesh3d\"}], \"parcoords\": [{\"line\": {\"colorbar\": {\"outlinewidth\": 0, \"ticks\": \"\"}}, \"type\": \"parcoords\"}], \"pie\": [{\"automargin\": true, \"type\": \"pie\"}], \"scatter\": [{\"marker\": {\"colorbar\": {\"outlinewidth\": 0, \"ticks\": \"\"}}, \"type\": \"scatter\"}], \"scatter3d\": [{\"line\": {\"colorbar\": {\"outlinewidth\": 0, \"ticks\": \"\"}}, \"marker\": {\"colorbar\": {\"outlinewidth\": 0, \"ticks\": \"\"}}, \"type\": \"scatter3d\"}], \"scattercarpet\": [{\"marker\": {\"colorbar\": {\"outlinewidth\": 0, \"ticks\": \"\"}}, \"type\": \"scattercarpet\"}], \"scattergeo\": [{\"marker\": {\"colorbar\": {\"outlinewidth\": 0, \"ticks\": \"\"}}, \"type\": \"scattergeo\"}], \"scattergl\": [{\"marker\": {\"colorbar\": {\"outlinewidth\": 0, \"ticks\": \"\"}}, \"type\": \"scattergl\"}], \"scattermapbox\": [{\"marker\": {\"colorbar\": {\"outlinewidth\": 0, \"ticks\": \"\"}}, \"type\": \"scattermapbox\"}], \"scatterpolar\": [{\"marker\": {\"colorbar\": {\"outlinewidth\": 0, \"ticks\": \"\"}}, \"type\": \"scatterpolar\"}], \"scatterpolargl\": [{\"marker\": {\"colorbar\": {\"outlinewidth\": 0, \"ticks\": \"\"}}, \"type\": \"scatterpolargl\"}], \"scatterternary\": [{\"marker\": {\"colorbar\": {\"outlinewidth\": 0, \"ticks\": \"\"}}, \"type\": \"scatterternary\"}], \"surface\": [{\"colorbar\": {\"outlinewidth\": 0, \"ticks\": \"\"}, \"colorscale\": [[0.0, \"#0d0887\"], [0.1111111111111111, \"#46039f\"], [0.2222222222222222, \"#7201a8\"], [0.3333333333333333, \"#9c179e\"], [0.4444444444444444, \"#bd3786\"], [0.5555555555555556, \"#d8576b\"], [0.6666666666666666, \"#ed7953\"], [0.7777777777777778, \"#fb9f3a\"], [0.8888888888888888, \"#fdca26\"], [1.0, \"#f0f921\"]], \"type\": \"surface\"}], \"table\": [{\"cells\": {\"fill\": {\"color\": \"#EBF0F8\"}, \"line\": {\"color\": \"white\"}}, \"header\": {\"fill\": {\"color\": \"#C8D4E3\"}, \"line\": {\"color\": \"white\"}}, \"type\": \"table\"}]}, \"layout\": {\"annotationdefaults\": {\"arrowcolor\": \"#2a3f5f\", \"arrowhead\": 0, \"arrowwidth\": 1}, \"coloraxis\": {\"colorbar\": {\"outlinewidth\": 0, \"ticks\": \"\"}}, \"colorscale\": {\"diverging\": [[0, \"#8e0152\"], [0.1, \"#c51b7d\"], [0.2, \"#de77ae\"], [0.3, \"#f1b6da\"], [0.4, \"#fde0ef\"], [0.5, \"#f7f7f7\"], [0.6, \"#e6f5d0\"], [0.7, \"#b8e186\"], [0.8, \"#7fbc41\"], [0.9, \"#4d9221\"], [1, \"#276419\"]], \"sequential\": [[0.0, \"#0d0887\"], [0.1111111111111111, \"#46039f\"], [0.2222222222222222, \"#7201a8\"], [0.3333333333333333, \"#9c179e\"], [0.4444444444444444, \"#bd3786\"], [0.5555555555555556, \"#d8576b\"], [0.6666666666666666, \"#ed7953\"], [0.7777777777777778, \"#fb9f3a\"], [0.8888888888888888, \"#fdca26\"], [1.0, \"#f0f921\"]], \"sequentialminus\": [[0.0, \"#0d0887\"], [0.1111111111111111, \"#46039f\"], [0.2222222222222222, \"#7201a8\"], [0.3333333333333333, \"#9c179e\"], [0.4444444444444444, \"#bd3786\"], [0.5555555555555556, \"#d8576b\"], [0.6666666666666666, \"#ed7953\"], [0.7777777777777778, \"#fb9f3a\"], [0.8888888888888888, \"#fdca26\"], [1.0, \"#f0f921\"]]}, \"colorway\": [\"#636efa\", \"#EF553B\", \"#00cc96\", \"#ab63fa\", \"#FFA15A\", \"#19d3f3\", \"#FF6692\", \"#B6E880\", \"#FF97FF\", \"#FECB52\"], \"font\": {\"color\": \"#2a3f5f\"}, \"geo\": {\"bgcolor\": \"white\", \"lakecolor\": \"white\", \"landcolor\": \"#E5ECF6\", \"showlakes\": true, \"showland\": true, \"subunitcolor\": \"white\"}, \"hoverlabel\": {\"align\": \"left\"}, \"hovermode\": \"closest\", \"mapbox\": {\"style\": \"light\"}, \"paper_bgcolor\": \"white\", \"plot_bgcolor\": \"#E5ECF6\", \"polar\": {\"angularaxis\": {\"gridcolor\": \"white\", \"linecolor\": \"white\", \"ticks\": \"\"}, \"bgcolor\": \"#E5ECF6\", \"radialaxis\": {\"gridcolor\": \"white\", \"linecolor\": \"white\", \"ticks\": \"\"}}, \"scene\": {\"xaxis\": {\"backgroundcolor\": \"#E5ECF6\", \"gridcolor\": \"white\", \"gridwidth\": 2, \"linecolor\": \"white\", \"showbackground\": true, \"ticks\": \"\", \"zerolinecolor\": \"white\"}, \"yaxis\": {\"backgroundcolor\": \"#E5ECF6\", \"gridcolor\": \"white\", \"gridwidth\": 2, \"linecolor\": \"white\", \"showbackground\": true, \"ticks\": \"\", \"zerolinecolor\": \"white\"}, \"zaxis\": {\"backgroundcolor\": \"#E5ECF6\", \"gridcolor\": \"white\", \"gridwidth\": 2, \"linecolor\": \"white\", \"showbackground\": true, \"ticks\": \"\", \"zerolinecolor\": \"white\"}}, \"shapedefaults\": {\"line\": {\"color\": \"#2a3f5f\"}}, \"ternary\": {\"aaxis\": {\"gridcolor\": \"white\", \"linecolor\": \"white\", \"ticks\": \"\"}, \"baxis\": {\"gridcolor\": \"white\", \"linecolor\": \"white\", \"ticks\": \"\"}, \"bgcolor\": \"#E5ECF6\", \"caxis\": {\"gridcolor\": \"white\", \"linecolor\": \"white\", \"ticks\": \"\"}}, \"title\": {\"x\": 0.05}, \"xaxis\": {\"automargin\": true, \"gridcolor\": \"white\", \"linecolor\": \"white\", \"ticks\": \"\", \"title\": {\"standoff\": 15}, \"zerolinecolor\": \"white\", \"zerolinewidth\": 2}, \"yaxis\": {\"automargin\": true, \"gridcolor\": \"white\", \"linecolor\": \"white\", \"ticks\": \"\", \"title\": {\"standoff\": 15}, \"zerolinecolor\": \"white\", \"zerolinewidth\": 2}}}, \"width\": 1500},                        {\"responsive\": true}                    ).then(function(){\n                            \nvar gd = document.getElementById('3ba9ee22-862e-4518-9d43-d5c8a3002d26');\nvar x = new MutationObserver(function (mutations, observer) {{\n        var display = window.getComputedStyle(gd).display;\n        if (!display || display === 'none') {{\n            console.log([gd, 'removed!']);\n            Plotly.purge(gd);\n            observer.disconnect();\n        }}\n}});\n\n// Listen for the removal of the full notebook cells\nvar notebookContainer = gd.closest('#notebook-container');\nif (notebookContainer) {{\n    x.observe(notebookContainer, {childList: true});\n}}\n\n// Listen for the clearing of the current output cell\nvar outputEl = gd.closest('.output');\nif (outputEl) {{\n    x.observe(outputEl, {childList: true});\n}}\n\n                        })                };                });            </script>        </div>"
         },
         "metadata": {},
         "output_type": "display_data"
        }
       ]
      }
     },
     "255fecc8c6b64be7af623dba0ef1ed7b": {
      "model_module": "@jupyter-widgets/base",
      "model_module_version": "1.2.0",
      "model_name": "LayoutModel",
      "state": {}
     },
     "2927b54bd78c4239b0b12857f6367c21": {
      "model_module": "@jupyter-widgets/base",
      "model_module_version": "1.2.0",
      "model_name": "LayoutModel",
      "state": {}
     },
     "3ad5683f082d46e8ac2f40c476ec794c": {
      "model_module": "@jupyter-widgets/controls",
      "model_module_version": "1.5.0",
      "model_name": "VBoxModel",
      "state": {
       "_dom_classes": [
        "widget-interact"
       ],
       "children": [
        "IPY_MODEL_d28554814b2c4e62b9ece1cd47654b1b",
        "IPY_MODEL_093f0a8f06e64e7784238fcaa3a0c21e",
        "IPY_MODEL_1c3064147a7543689c08b8e331b3a7df",
        "IPY_MODEL_1ba6ffe7fbaa42dd94b818997b42248b",
        "IPY_MODEL_91ce18edf0704dbc978b384923317469",
        "IPY_MODEL_5e7f6653c1414816a722078b1ae76dad",
        "IPY_MODEL_723c5d36ba7f4c92bdefac1f2ae1a004",
        "IPY_MODEL_dc5de32f25bf401ea1f8f759d2cfd706",
        "IPY_MODEL_24e7b9a6a5b34a6f958135da3423ccae"
       ],
       "layout": "IPY_MODEL_7fc9aae46e2846d2947fcc7357668ae4"
      }
     },
     "3d8be16d3da24757a3850f7435b4d95c": {
      "model_module": "@jupyter-widgets/base",
      "model_module_version": "1.2.0",
      "model_name": "LayoutModel",
      "state": {}
     },
     "44668bf239294a09855bf775207574e6": {
      "model_module": "@jupyter-widgets/base",
      "model_module_version": "1.2.0",
      "model_name": "LayoutModel",
      "state": {}
     },
     "5e7f6653c1414816a722078b1ae76dad": {
      "model_module": "@jupyter-widgets/controls",
      "model_module_version": "1.5.0",
      "model_name": "IntSliderModel",
      "state": {
       "description": "moneyA",
       "layout": "IPY_MODEL_6788e2c28fa549b9ad5d8d18b6d857c1",
       "max": 10000,
       "min": 500,
       "step": 100,
       "style": "IPY_MODEL_78f35ca6723043c887f22be9c07894a8",
       "value": 500
      }
     },
     "6204e7fa790f42a98dc287f22d3e97e9": {
      "model_module": "@jupyter-widgets/controls",
      "model_module_version": "1.5.0",
      "model_name": "SliderStyleModel",
      "state": {
       "description_width": ""
      }
     },
     "6788e2c28fa549b9ad5d8d18b6d857c1": {
      "model_module": "@jupyter-widgets/base",
      "model_module_version": "1.2.0",
      "model_name": "LayoutModel",
      "state": {}
     },
     "723c5d36ba7f4c92bdefac1f2ae1a004": {
      "model_module": "@jupyter-widgets/controls",
      "model_module_version": "1.5.0",
      "model_name": "IntSliderModel",
      "state": {
       "description": "moneyB",
       "layout": "IPY_MODEL_f1433bafa8544e889a39f19398829a7b",
       "max": 10000,
       "min": 500,
       "step": 100,
       "style": "IPY_MODEL_807cd5ee591140db87e29b9fac5f0472",
       "value": 500
      }
     },
     "769597ff2f124fb5983179f2270083d9": {
      "model_module": "@jupyter-widgets/controls",
      "model_module_version": "1.5.0",
      "model_name": "SliderStyleModel",
      "state": {
       "description_width": ""
      }
     },
     "78f35ca6723043c887f22be9c07894a8": {
      "model_module": "@jupyter-widgets/controls",
      "model_module_version": "1.5.0",
      "model_name": "SliderStyleModel",
      "state": {
       "description_width": ""
      }
     },
     "7fc9aae46e2846d2947fcc7357668ae4": {
      "model_module": "@jupyter-widgets/base",
      "model_module_version": "1.2.0",
      "model_name": "LayoutModel",
      "state": {}
     },
     "807cd5ee591140db87e29b9fac5f0472": {
      "model_module": "@jupyter-widgets/controls",
      "model_module_version": "1.5.0",
      "model_name": "SliderStyleModel",
      "state": {
       "description_width": ""
      }
     },
     "91ce18edf0704dbc978b384923317469": {
      "model_module": "@jupyter-widgets/controls",
      "model_module_version": "1.5.0",
      "model_name": "FloatSliderModel",
      "state": {
       "description": "corr",
       "layout": "IPY_MODEL_255fecc8c6b64be7af623dba0ef1ed7b",
       "max": 1,
       "min": -1,
       "step": 0.1,
       "style": "IPY_MODEL_6204e7fa790f42a98dc287f22d3e97e9"
      }
     },
     "b8a7e36b17aa4396a275585f59590f9c": {
      "model_module": "@jupyter-widgets/base",
      "model_module_version": "1.2.0",
      "model_name": "LayoutModel",
      "state": {}
     },
     "bfa3d4171cdc40c887fdd2d1c4d1132e": {
      "model_module": "@jupyter-widgets/controls",
      "model_module_version": "1.5.0",
      "model_name": "SliderStyleModel",
      "state": {
       "description_width": ""
      }
     },
     "c084478b52f94a8dbb443c270773faa6": {
      "model_module": "@jupyter-widgets/controls",
      "model_module_version": "1.5.0",
      "model_name": "SliderStyleModel",
      "state": {
       "description_width": ""
      }
     },
     "d07030b59916449fa103b09145b44237": {
      "model_module": "@jupyter-widgets/base",
      "model_module_version": "1.2.0",
      "model_name": "LayoutModel",
      "state": {}
     },
     "d28554814b2c4e62b9ece1cd47654b1b": {
      "model_module": "@jupyter-widgets/controls",
      "model_module_version": "1.5.0",
      "model_name": "FloatSliderModel",
      "state": {
       "description": "mu1",
       "layout": "IPY_MODEL_137a2c92e87a4e0e92221782e3da7a6b",
       "max": 0.8,
       "step": 0.05,
       "style": "IPY_MODEL_d731fc9c14df454eae5bfe0cd1f4d1f7"
      }
     },
     "d731fc9c14df454eae5bfe0cd1f4d1f7": {
      "model_module": "@jupyter-widgets/controls",
      "model_module_version": "1.5.0",
      "model_name": "SliderStyleModel",
      "state": {
       "description_width": ""
      }
     },
     "dc5de32f25bf401ea1f8f759d2cfd706": {
      "model_module": "@jupyter-widgets/controls",
      "model_module_version": "1.5.0",
      "model_name": "IntSliderModel",
      "state": {
       "description": "size",
       "layout": "IPY_MODEL_44668bf239294a09855bf775207574e6",
       "max": 10000,
       "min": 1,
       "step": 100,
       "style": "IPY_MODEL_bfa3d4171cdc40c887fdd2d1c4d1132e",
       "value": 100
      }
     },
     "f1433bafa8544e889a39f19398829a7b": {
      "model_module": "@jupyter-widgets/base",
      "model_module_version": "1.2.0",
      "model_name": "LayoutModel",
      "state": {}
     }
    },
    "version_major": 2,
    "version_minor": 0
   }
  }
 },
 "nbformat": 4,
 "nbformat_minor": 5
}
